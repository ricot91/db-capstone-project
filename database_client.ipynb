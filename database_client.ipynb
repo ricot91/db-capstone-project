{
 "cells": [
  {
   "cell_type": "markdown",
   "id": "28897ff4",
   "metadata": {},
   "source": [
    "# Exercise: Add query functions"
   ]
  },
  {
   "cell_type": "markdown",
   "id": "79502eea",
   "metadata": {},
   "source": [
    "### Task 1: Establish a connection"
   ]
  },
  {
   "cell_type": "code",
   "execution_count": 1,
   "id": "10bd749a",
   "metadata": {},
   "outputs": [],
   "source": [
    "# Import MySQL Connector/Python \n",
    "import mysql.connector as connector"
   ]
  },
  {
   "cell_type": "code",
   "execution_count": 2,
   "id": "1dbe0d75",
   "metadata": {},
   "outputs": [],
   "source": [
    "connection = connector.connect(user = \"richardson\", password = \"pass@123\", db = \"littlelemondb\") "
   ]
  },
  {
   "cell_type": "code",
   "execution_count": 3,
   "id": "5ed66368",
   "metadata": {},
   "outputs": [],
   "source": [
    "cursor = connection.cursor()"
   ]
  },
  {
   "cell_type": "code",
   "execution_count": 4,
   "id": "abd40704",
   "metadata": {},
   "outputs": [
    {
     "name": "stdout",
     "output_type": "stream",
     "text": [
      "little_lemon_db\n"
     ]
    }
   ],
   "source": [
    "print(connection.database)"
   ]
  },
  {
   "cell_type": "markdown",
   "id": "6fda5f5f",
   "metadata": {},
   "source": [
    "### Task two"
   ]
  },
  {
   "cell_type": "code",
   "execution_count": 5,
   "id": "a5b3ad89",
   "metadata": {},
   "outputs": [],
   "source": [
    "show_tables_query = \"SHOW tables\" \n",
    "cursor.execute(show_tables_query)"
   ]
  },
  {
   "cell_type": "code",
   "execution_count": 6,
   "id": "fc665f47",
   "metadata": {},
   "outputs": [
    {
     "name": "stdout",
     "output_type": "stream",
     "text": [
      "('bookings',)\n",
      "('customers',)\n",
      "('employees',)\n",
      "('menuitems',)\n",
      "('menus',)\n",
      "('orders',)\n",
      "('ordersview',)\n"
     ]
    }
   ],
   "source": [
    "results = cursor.fetchall()\n",
    "for table in results:\n",
    "    print(table)"
   ]
  },
  {
   "cell_type": "markdown",
   "id": "5958016c",
   "metadata": {},
   "source": [
    "### Task three"
   ]
  },
  {
   "cell_type": "code",
   "execution_count": 7,
   "id": "5de9fc83",
   "metadata": {},
   "outputs": [],
   "source": [
    "query = \"\"\"\n",
    "SELECT c.FullName, c.ContactNumber, c.Email, o.TotalCost\n",
    "FROM Customers c\n",
    "INNER JOIN Bookings b ON c.CustomerID = b.CustomerID\n",
    "INNER JOIN Orders o ON o.BookingID = b.BookingID\n",
    "WHERE o.TotalCost > 60;\n",
    "\"\"\""
   ]
  },
  {
   "cell_type": "code",
   "execution_count": 8,
   "id": "103c9195",
   "metadata": {},
   "outputs": [],
   "source": [
    "cursor.execute(query)"
   ]
  },
  {
   "cell_type": "code",
   "execution_count": 9,
   "id": "75b58875",
   "metadata": {},
   "outputs": [
    {
     "name": "stdout",
     "output_type": "stream",
     "text": [
      "('FullName', 'ContactNumber', 'Email', 'TotalCost')\n",
      "('Desirae Clark', '(437) 548-3469', 'in@protonmail.net', 86)\n",
      "('Holmes Stokes', '1-774-864-1571', 'etiam@yahoo.org', 65)\n",
      "('Judith Clemons', '(835) 818-1713', 'ridiculus.mus@hotmail.couk', 70)\n",
      "('Desirae Clark', '(437) 548-3469', 'in@protonmail.net', 80)\n"
     ]
    }
   ],
   "source": [
    "print(cursor.column_names)\n",
    "for row in cursor:\n",
    "    print(row)"
   ]
  }
 ],
 "metadata": {
  "kernelspec": {
   "display_name": "Python 3 (ipykernel)",
   "language": "python",
   "name": "python3"
  },
  "language_info": {
   "codemirror_mode": {
    "name": "ipython",
    "version": 3
   },
   "file_extension": ".py",
   "mimetype": "text/x-python",
   "name": "python",
   "nbconvert_exporter": "python",
   "pygments_lexer": "ipython3",
   "version": "3.9.13"
  }
 },
 "nbformat": 4,
 "nbformat_minor": 5
}
